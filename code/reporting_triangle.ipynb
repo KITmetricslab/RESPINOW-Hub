{
 "cells": [
  {
   "cell_type": "code",
   "execution_count": 1,
   "id": "innocent-brazilian",
   "metadata": {},
   "outputs": [],
   "source": [
    "import numpy as np\n",
    "import pandas as pd\n",
    "import requests\n",
    "from epiweeks import Week, Year\n",
    "from tqdm.auto import tqdm\n",
    "tqdm.pandas()"
   ]
  },
  {
   "cell_type": "code",
   "execution_count": 2,
   "id": "meaning-dinner",
   "metadata": {},
   "outputs": [],
   "source": [
    "PATH = 'https://raw.githubusercontent.com/KITmetricslab/nowcasting-data/main/'\n",
    "# DISEASE = 'Seasonal_Influenza' \n",
    "# DISEASE = 'RSV_Infection'\n",
    "DISEASE = 'Pneumococcal_Disease'    \n",
    "\n",
    "TYPE = 'age'\n",
    "\n",
    "MAX_DELAY = 10"
   ]
  },
  {
   "cell_type": "code",
   "execution_count": 3,
   "id": "thermal-controversy",
   "metadata": {},
   "outputs": [],
   "source": [
    "LOCATION_CODES = {'Deutschland': 'DE',\n",
    "                  'Schleswig-Holstein': 'DE-SH',\n",
    "                  'Hamburg': 'DE-HH',\n",
    "                  'Niedersachsen': 'DE-NI',\n",
    "                  'Bremen': 'DE-HB',\n",
    "                  'Nordrhein-Westfalen': 'DE-NW',\n",
    "                  'Hessen': 'DE-HE',\n",
    "                  'Rheinland-Pfalz': 'DE-RP',\n",
    "                  'Baden-Württemberg': 'DE-BW',\n",
    "                  'Bayern': 'DE-BY',\n",
    "                  'Saarland': 'DE-SL',\n",
    "                  'Berlin': 'DE-BE',\n",
    "                  'Brandenburg': 'DE-BB',\n",
    "                  'Mecklenburg-Vorpommern': 'DE-MV',\n",
    "                  'Sachsen': 'DE-SN',\n",
    "                  'Sachsen-Anhalt': 'DE-ST',\n",
    "                  'Thüringen': 'DE-TH'}"
   ]
  },
  {
   "cell_type": "code",
   "execution_count": 4,
   "id": "requested-frederick",
   "metadata": {},
   "outputs": [],
   "source": [
    "def ages_by_group(age_group):\n",
    "    if age_group == '80+':\n",
    "        return {'A80.': '80+'}\n",
    "    limits = age_group.split(\"-\")\n",
    "    keys = [f\"A{a:02d}..{a:02d}\" for a in range(int(limits[0]), int(limits[1]) + 1)]\n",
    "    return dict.fromkeys(keys, age_group)\n",
    "\n",
    "AGE_GROUPS = [\"00-04\", \"05-14\", \"15-34\", \"35-59\", \"60-79\", \"80+\"]\n",
    "\n",
    "AGE_DICT = dict()\n",
    "for age_group in AGE_GROUPS:\n",
    "    AGE_DICT.update(ages_by_group(age_group))"
   ]
  },
  {
   "cell_type": "code",
   "execution_count": 5,
   "id": "indoor-raise",
   "metadata": {},
   "outputs": [],
   "source": [
    "def process_state_file(df):\n",
    "    # add iso date (end date of the corresponding week)\n",
    "    df['date'] = df.apply(lambda x: Week(x.year, x.week, system = 'iso').enddate(), axis = 1)\n",
    "    \n",
    "    df = df.rename(columns = {'stratum' : 'location'})\n",
    "    \n",
    "    # fix state names and replace with abbreviations\n",
    "    df.location = df.location.replace({'Ã.': 'ü', '\\.': '-'}, regex = True)\n",
    "    df.location = df.location.replace(LOCATION_CODES)\n",
    "    \n",
    "    # fill in age_group\n",
    "    df['age_group'] = '00+'\n",
    "    \n",
    "    df = df[['date', 'year', 'week', 'location', 'age_group', 'value']]\n",
    "    df = df.sort_values(['location', 'age_group', 'date'], ignore_index = True)\n",
    "\n",
    "    return df"
   ]
  },
  {
   "cell_type": "code",
   "execution_count": 6,
   "id": "green-theater",
   "metadata": {},
   "outputs": [],
   "source": [
    "def process_age_file(df):\n",
    "    # add iso date (end date of the corresponding iso week)\n",
    "    df['date'] = df.apply(lambda x: Week(x.year, x.week, system = 'iso').enddate(), axis = 1)\n",
    "    \n",
    "    df = df.rename(columns = {'stratum' : 'age_group'})\n",
    "    \n",
    "    # drop entries with unknown age group\n",
    "    df = df[df.age_group != \"Unbekannt\"]\n",
    "    \n",
    "    # summarize age groups (from yearly resolution to specified groups)\n",
    "    df.age_group = df.age_group.replace(AGE_DICT)\n",
    "    df = df.groupby(['date', 'year', 'week', 'age_group'], as_index = False)['value'].sum()\n",
    "    \n",
    "    # compute sum for age group 00+\n",
    "    df_all = df.groupby(['date', 'year', 'week'], as_index = False)['value'].sum()\n",
    "    df_all['age_group'] = '00+'\n",
    "    \n",
    "    df = pd.concat([df, df_all])\n",
    "    \n",
    "    # fill in location\n",
    "    df['location'] = 'DE'\n",
    "    \n",
    "    df = df[['date', 'year', 'week', 'location', 'age_group', 'value']]\n",
    "    df = df.sort_values(['location', 'age_group', 'date'], ignore_index = True)\n",
    "\n",
    "    return df"
   ]
  },
  {
   "cell_type": "code",
   "execution_count": 7,
   "id": "bearing-debate",
   "metadata": {},
   "outputs": [],
   "source": [
    "def load_processed_file(path):\n",
    "    try:\n",
    "        df = pd.read_csv(path)\n",
    "\n",
    "        if 'states' in path:\n",
    "            df = process_state_file(df)\n",
    "        elif 'age' in path:\n",
    "            df = process_age_file(df)\n",
    "        \n",
    "        return df\n",
    "        \n",
    "    except:\n",
    "        return None"
   ]
  },
  {
   "cell_type": "code",
   "execution_count": 8,
   "id": "catholic-worth",
   "metadata": {},
   "outputs": [],
   "source": [
    "def load_data(disease, date):\n",
    "    try:\n",
    "        df1 = pd.read_csv(f\"{PATH}/{disease}/{disease}-states-{date}.csv\")\n",
    "        df2 = pd.read_csv(f\"{PATH}/{disease}/{disease}-age-{date}.csv\")\n",
    "\n",
    "        df1 = process_state_file(df1)\n",
    "        df2 = process_age_file(df2)\n",
    "\n",
    "        df = pd.concat([df1, df2])\n",
    "        df = df.sort_values(['location', 'age_group', 'date'], ignore_index = True)\n",
    "        \n",
    "        return df\n",
    "        \n",
    "    except:\n",
    "        return None "
   ]
  },
  {
   "cell_type": "code",
   "execution_count": 9,
   "id": "mineral-merchant",
   "metadata": {},
   "outputs": [],
   "source": [
    "def add_iso_dates(df):\n",
    "    '''\n",
    "    Adds iso_week, iso_year and iso_date (end date of the week) to dataframe.\n",
    "    '''\n",
    "    df['iso_week'] = df.date.apply(lambda x: Week.fromdate(x, system = 'iso').week)\n",
    "    df['iso_year'] = df.date.apply(lambda x: Week.fromdate(x, system = 'iso').year)\n",
    "    df['iso_date'] = df.apply(lambda x: Week(x.iso_year, x.iso_week, system = 'iso').enddate(), axis = 1)\n",
    "    \n",
    "    return(df)"
   ]
  },
  {
   "cell_type": "code",
   "execution_count": 10,
   "id": "latest-pasta",
   "metadata": {},
   "outputs": [],
   "source": [
    "def add_iso_dates(df):\n",
    "    '''\n",
    "    Adds iso_week, iso_year and iso_date (end date of the week) to dataframe.\n",
    "    '''\n",
    "    df['iso_week'] = df.date.apply(lambda x: Week.fromdate(x, system = 'iso').week)\n",
    "    df['iso_year'] = df.date.apply(lambda x: Week.fromdate(x, system = 'iso').year)\n",
    "    df['iso_date'] = df.apply(lambda x: Week(x.iso_year, x.iso_week, system = 'iso'), axis = 1)\n",
    "    \n",
    "    return(df)"
   ]
  },
  {
   "cell_type": "code",
   "execution_count": 11,
   "id": "comprehensive-shelter",
   "metadata": {},
   "outputs": [],
   "source": [
    "def list_all_files(disease, stratum):\n",
    "    # download all files from repo\n",
    "    url = 'https://api.github.com/repos/KITmetricslab/nowcasting-data/git/trees/main?recursive=1'\n",
    "    r = requests.get(url)\n",
    "    res = r.json()\n",
    "    \n",
    "    # filter relevant files\n",
    "    files = sorted([file['path'] for file in res['tree'] if (file['path'].startswith(disease) and \n",
    "                                                             file['path'].endswith('.csv') and\n",
    "                                                             stratum in file['path'])])\n",
    "    \n",
    "    # create dataframe so we can easily select files by date\n",
    "    df_files = pd.DataFrame({'filename':files})\n",
    "\n",
    "    # extract date from filename\n",
    "    df_files['date'] = df_files.filename.str[-14:-4]\n",
    "    df_files.date = pd.to_datetime(df_files.date)\n",
    "    \n",
    "    df_files = add_iso_dates(df_files)\n",
    "    \n",
    "    # only keep latest file per week\n",
    "    df_files = df_files.sort_values('date').groupby(['iso_year', 'iso_week']).tail(1).reset_index(drop = True)\n",
    "    \n",
    "    return df_files"
   ]
  },
  {
   "cell_type": "code",
   "execution_count": 12,
   "id": "specific-basement",
   "metadata": {},
   "outputs": [],
   "source": [
    "df_files = list_all_files(DISEASE, TYPE)"
   ]
  },
  {
   "cell_type": "code",
   "execution_count": 13,
   "id": "fitting-appreciation",
   "metadata": {},
   "outputs": [
    {
     "data": {
      "text/html": [
       "<div>\n",
       "<style scoped>\n",
       "    .dataframe tbody tr th:only-of-type {\n",
       "        vertical-align: middle;\n",
       "    }\n",
       "\n",
       "    .dataframe tbody tr th {\n",
       "        vertical-align: top;\n",
       "    }\n",
       "\n",
       "    .dataframe thead th {\n",
       "        text-align: right;\n",
       "    }\n",
       "</style>\n",
       "<table border=\"1\" class=\"dataframe\">\n",
       "  <thead>\n",
       "    <tr style=\"text-align: right;\">\n",
       "      <th></th>\n",
       "      <th>filename</th>\n",
       "      <th>date</th>\n",
       "      <th>iso_week</th>\n",
       "      <th>iso_year</th>\n",
       "      <th>iso_date</th>\n",
       "    </tr>\n",
       "  </thead>\n",
       "  <tbody>\n",
       "    <tr>\n",
       "      <th>0</th>\n",
       "      <td>Pneumococcal_Disease/Pneumococcal_Disease-age-...</td>\n",
       "      <td>2021-10-28</td>\n",
       "      <td>43</td>\n",
       "      <td>2021</td>\n",
       "      <td>2021W43</td>\n",
       "    </tr>\n",
       "    <tr>\n",
       "      <th>1</th>\n",
       "      <td>Pneumococcal_Disease/Pneumococcal_Disease-age-...</td>\n",
       "      <td>2021-11-07</td>\n",
       "      <td>44</td>\n",
       "      <td>2021</td>\n",
       "      <td>2021W44</td>\n",
       "    </tr>\n",
       "    <tr>\n",
       "      <th>2</th>\n",
       "      <td>Pneumococcal_Disease/Pneumococcal_Disease-age-...</td>\n",
       "      <td>2021-11-14</td>\n",
       "      <td>45</td>\n",
       "      <td>2021</td>\n",
       "      <td>2021W45</td>\n",
       "    </tr>\n",
       "    <tr>\n",
       "      <th>3</th>\n",
       "      <td>Pneumococcal_Disease/Pneumococcal_Disease-age-...</td>\n",
       "      <td>2021-11-21</td>\n",
       "      <td>46</td>\n",
       "      <td>2021</td>\n",
       "      <td>2021W46</td>\n",
       "    </tr>\n",
       "    <tr>\n",
       "      <th>4</th>\n",
       "      <td>Pneumococcal_Disease/Pneumococcal_Disease-age-...</td>\n",
       "      <td>2021-11-28</td>\n",
       "      <td>47</td>\n",
       "      <td>2021</td>\n",
       "      <td>2021W47</td>\n",
       "    </tr>\n",
       "  </tbody>\n",
       "</table>\n",
       "</div>"
      ],
      "text/plain": [
       "                                            filename       date  iso_week  \\\n",
       "0  Pneumococcal_Disease/Pneumococcal_Disease-age-... 2021-10-28        43   \n",
       "1  Pneumococcal_Disease/Pneumococcal_Disease-age-... 2021-11-07        44   \n",
       "2  Pneumococcal_Disease/Pneumococcal_Disease-age-... 2021-11-14        45   \n",
       "3  Pneumococcal_Disease/Pneumococcal_Disease-age-... 2021-11-21        46   \n",
       "4  Pneumococcal_Disease/Pneumococcal_Disease-age-... 2021-11-28        47   \n",
       "\n",
       "   iso_year iso_date  \n",
       "0      2021  2021W43  \n",
       "1      2021  2021W44  \n",
       "2      2021  2021W45  \n",
       "3      2021  2021W46  \n",
       "4      2021  2021W47  "
      ]
     },
     "execution_count": 13,
     "metadata": {},
     "output_type": "execute_result"
    }
   ],
   "source": [
    "df_files.head()"
   ]
  },
  {
   "cell_type": "code",
   "execution_count": 14,
   "id": "informed-juvenile",
   "metadata": {},
   "outputs": [],
   "source": [
    "date_dict = dict(zip(df_files.iso_date, df_files.date))"
   ]
  },
  {
   "cell_type": "code",
   "execution_count": 15,
   "id": "complimentary-serial",
   "metadata": {},
   "outputs": [],
   "source": [
    "max_date = df_files.iso_date.max().enddate()\n",
    "min_date = df_files.iso_date.min().enddate()"
   ]
  },
  {
   "cell_type": "code",
   "execution_count": 16,
   "id": "packed-objective",
   "metadata": {},
   "outputs": [],
   "source": [
    "dates = pd.date_range(min_date, max_date, freq = \"1W\")\n",
    "dates = [Week.fromdate(d, system = 'iso') for d in dates]"
   ]
  },
  {
   "cell_type": "code",
   "execution_count": 17,
   "id": "specific-blood",
   "metadata": {},
   "outputs": [
    {
     "name": "stdout",
     "output_type": "stream",
     "text": [
      "Warning: No data for 2021-10-31.\n"
     ]
    }
   ],
   "source": [
    "dfs = []\n",
    "for date in dates:\n",
    "    \n",
    "    if date in date_dict.keys():\n",
    "        df_temp = load_data(disease = DISEASE, date = date_dict[date].date())\n",
    "    else:\n",
    "        df_temp = None\n",
    "    \n",
    "    # select relevant rows if df_temp is not None\n",
    "    if df_temp is not None:\n",
    "        df_temp = df_temp[(df_temp.date == date_dict[date].date())]\n",
    "    \n",
    "    # add rows (with valid year, week, date but no value) if date is missing in file or file couldn't be loaded\n",
    "    if df_temp is None or len(df_temp) == 0:\n",
    "        try:\n",
    "            df_temp = dfs[-1].copy()\n",
    "            df_temp.year = date.year\n",
    "            df_temp.week = date.week\n",
    "            df_temp.date = date.enddate()\n",
    "            df_temp.value = np.nan\n",
    "        except:\n",
    "            print(f\"Warning: No data for {date.enddate()}.\")\n",
    "    dfs.append(df_temp)\n",
    "    \n",
    "\n",
    "df = pd.concat(dfs)\n",
    "\n",
    "# if initial report is missing replace with zero\n",
    "df.value.fillna(0, inplace = True)\n",
    "\n",
    "df.rename(columns = {'value': 'value_0w'}, inplace = True)"
   ]
  },
  {
   "cell_type": "code",
   "execution_count": 18,
   "id": "curious-perth",
   "metadata": {},
   "outputs": [
    {
     "data": {
      "image/png": "[encoded data removed]",
      "text/plain": [
       "<Figure size 432x288 with 1 Axes>"
      ]
     },
     "metadata": {
      "needs_background": "light"
     },
     "output_type": "display_data"
    }
   ],
   "source": [
    "df.set_index('date').groupby('age_group')['value_0w'].plot();"
   ]
  },
  {
   "cell_type": "code",
   "execution_count": 19,
   "id": "widespread-tampa",
   "metadata": {},
   "outputs": [],
   "source": [
    "def safe_loading(date):\n",
    "    return\n",
    "    # TODO"
   ]
  },
  {
   "cell_type": "code",
   "execution_count": 20,
   "id": "sweet-improvement",
   "metadata": {},
   "outputs": [
    {
     "data": {
      "application/vnd.jupyter.widget-view+json": {
       "model_id": "d6ad463071194f00ba27e1203aa4b3da",
       "version_major": 2,
       "version_minor": 0
      },
      "text/plain": [
       "  0%|          | 0/10 [00:00<?, ?it/s]"
      ]
     },
     "metadata": {},
     "output_type": "display_data"
    }
   ],
   "source": [
    "for delay in tqdm(range(1, MAX_DELAY + 1), total = MAX_DELAY):\n",
    "    dfs_delayed = []\n",
    "    for date in dates:\n",
    "        date_delayed = date + delay \n",
    "        if date_delayed <= max(dates):\n",
    "            if date_delayed in date_dict.keys():\n",
    "                df_temp = load_data(disease = DISEASE, date = date_dict[date_delayed].date())\n",
    "            else:\n",
    "                df_temp = None\n",
    "                \n",
    "            # select relevant rows if df_temp is not None\n",
    "            if df_temp is not None:\n",
    "                df_temp = df_temp[(df_temp.date == date.enddate())]\n",
    "            \n",
    "            # add rows (with valid year, week, date but no value) if date is missing in file or file couldn't be loaded\n",
    "            if df_temp is None or len(df_temp) == 0:\n",
    "                try:\n",
    "                    df_temp = dfs[-1].copy()\n",
    "                    df_temp.year = date.year\n",
    "                    df_temp.week = date.week\n",
    "                    df_temp.date = date.enddate()\n",
    "                    df_temp.value = np.nan\n",
    "                except:\n",
    "                    print(f\"Warning: No data for {date.enddate()}.\")\n",
    "            dfs_delayed.append(df_temp)\n",
    "            \n",
    "    df_delayed = pd.concat(dfs_delayed)\n",
    "    # we flag missing values to fill later on (not all should be filled to preserve reporting triangle shape)\n",
    "    df_delayed.value.fillna('to_fill', inplace = True)  \n",
    "    df_delayed.rename(columns = {'value': f'value_{delay}w'}, inplace = True)\n",
    "    df = df.merge(df_delayed, how = 'left')"
   ]
  },
  {
   "cell_type": "code",
   "execution_count": 21,
   "id": "executed-wheat",
   "metadata": {},
   "outputs": [],
   "source": [
    "# use latest file to compute column for remaining correction beyond the specified largest delay\n",
    "df_latest = load_data(DISEASE, df_files.date.iloc[-1].date())\n",
    "\n",
    "df_latest.value = df_latest.value.fillna('to_fill')\n",
    "\n",
    "df_latest = df_latest.rename(columns = {'value': f'value_>{MAX_DELAY}w'})"
   ]
  },
  {
   "cell_type": "code",
   "execution_count": 22,
   "id": "growing-people",
   "metadata": {},
   "outputs": [],
   "source": [
    "df = df.merge(df_latest, how = 'left')"
   ]
  },
  {
   "cell_type": "code",
   "execution_count": 23,
   "id": "brutal-transcription",
   "metadata": {},
   "outputs": [
    {
     "data": {
      "text/html": [
       "<div>\n",
       "<style scoped>\n",
       "    .dataframe tbody tr th:only-of-type {\n",
       "        vertical-align: middle;\n",
       "    }\n",
       "\n",
       "    .dataframe tbody tr th {\n",
       "        vertical-align: top;\n",
       "    }\n",
       "\n",
       "    .dataframe thead th {\n",
       "        text-align: right;\n",
       "    }\n",
       "</style>\n",
       "<table border=\"1\" class=\"dataframe\">\n",
       "  <thead>\n",
       "    <tr style=\"text-align: right;\">\n",
       "      <th></th>\n",
       "      <th>date</th>\n",
       "      <th>year</th>\n",
       "      <th>week</th>\n",
       "      <th>location</th>\n",
       "      <th>age_group</th>\n",
       "      <th>value_0w</th>\n",
       "      <th>value_1w</th>\n",
       "      <th>value_2w</th>\n",
       "      <th>value_3w</th>\n",
       "      <th>value_4w</th>\n",
       "      <th>value_5w</th>\n",
       "      <th>value_6w</th>\n",
       "      <th>value_7w</th>\n",
       "      <th>value_8w</th>\n",
       "      <th>value_9w</th>\n",
       "      <th>value_10w</th>\n",
       "      <th>value_&gt;10w</th>\n",
       "    </tr>\n",
       "  </thead>\n",
       "  <tbody>\n",
       "    <tr>\n",
       "      <th>599</th>\n",
       "      <td>2022-05-29</td>\n",
       "      <td>2022</td>\n",
       "      <td>21</td>\n",
       "      <td>DE-SH</td>\n",
       "      <td>00+</td>\n",
       "      <td>0.0</td>\n",
       "      <td>NaN</td>\n",
       "      <td>NaN</td>\n",
       "      <td>NaN</td>\n",
       "      <td>NaN</td>\n",
       "      <td>NaN</td>\n",
       "      <td>NaN</td>\n",
       "      <td>NaN</td>\n",
       "      <td>NaN</td>\n",
       "      <td>NaN</td>\n",
       "      <td>NaN</td>\n",
       "      <td>1.0</td>\n",
       "    </tr>\n",
       "    <tr>\n",
       "      <th>600</th>\n",
       "      <td>2022-05-29</td>\n",
       "      <td>2022</td>\n",
       "      <td>21</td>\n",
       "      <td>DE-SL</td>\n",
       "      <td>00+</td>\n",
       "      <td>0.0</td>\n",
       "      <td>NaN</td>\n",
       "      <td>NaN</td>\n",
       "      <td>NaN</td>\n",
       "      <td>NaN</td>\n",
       "      <td>NaN</td>\n",
       "      <td>NaN</td>\n",
       "      <td>NaN</td>\n",
       "      <td>NaN</td>\n",
       "      <td>NaN</td>\n",
       "      <td>NaN</td>\n",
       "      <td>to_fill</td>\n",
       "    </tr>\n",
       "    <tr>\n",
       "      <th>601</th>\n",
       "      <td>2022-05-29</td>\n",
       "      <td>2022</td>\n",
       "      <td>21</td>\n",
       "      <td>DE-SN</td>\n",
       "      <td>00+</td>\n",
       "      <td>0.0</td>\n",
       "      <td>NaN</td>\n",
       "      <td>NaN</td>\n",
       "      <td>NaN</td>\n",
       "      <td>NaN</td>\n",
       "      <td>NaN</td>\n",
       "      <td>NaN</td>\n",
       "      <td>NaN</td>\n",
       "      <td>NaN</td>\n",
       "      <td>NaN</td>\n",
       "      <td>NaN</td>\n",
       "      <td>to_fill</td>\n",
       "    </tr>\n",
       "    <tr>\n",
       "      <th>602</th>\n",
       "      <td>2022-05-29</td>\n",
       "      <td>2022</td>\n",
       "      <td>21</td>\n",
       "      <td>DE-ST</td>\n",
       "      <td>00+</td>\n",
       "      <td>0.0</td>\n",
       "      <td>NaN</td>\n",
       "      <td>NaN</td>\n",
       "      <td>NaN</td>\n",
       "      <td>NaN</td>\n",
       "      <td>NaN</td>\n",
       "      <td>NaN</td>\n",
       "      <td>NaN</td>\n",
       "      <td>NaN</td>\n",
       "      <td>NaN</td>\n",
       "      <td>NaN</td>\n",
       "      <td>1.0</td>\n",
       "    </tr>\n",
       "    <tr>\n",
       "      <th>603</th>\n",
       "      <td>2022-05-29</td>\n",
       "      <td>2022</td>\n",
       "      <td>21</td>\n",
       "      <td>DE-TH</td>\n",
       "      <td>00+</td>\n",
       "      <td>0.0</td>\n",
       "      <td>NaN</td>\n",
       "      <td>NaN</td>\n",
       "      <td>NaN</td>\n",
       "      <td>NaN</td>\n",
       "      <td>NaN</td>\n",
       "      <td>NaN</td>\n",
       "      <td>NaN</td>\n",
       "      <td>NaN</td>\n",
       "      <td>NaN</td>\n",
       "      <td>NaN</td>\n",
       "      <td>1.0</td>\n",
       "    </tr>\n",
       "  </tbody>\n",
       "</table>\n",
       "</div>"
      ],
      "text/plain": [
       "           date  year  week location age_group  value_0w value_1w value_2w  \\\n",
       "599  2022-05-29  2022    21    DE-SH       00+       0.0      NaN      NaN   \n",
       "600  2022-05-29  2022    21    DE-SL       00+       0.0      NaN      NaN   \n",
       "601  2022-05-29  2022    21    DE-SN       00+       0.0      NaN      NaN   \n",
       "602  2022-05-29  2022    21    DE-ST       00+       0.0      NaN      NaN   \n",
       "603  2022-05-29  2022    21    DE-TH       00+       0.0      NaN      NaN   \n",
       "\n",
       "    value_3w value_4w value_5w value_6w value_7w value_8w value_9w value_10w  \\\n",
       "599      NaN      NaN      NaN      NaN      NaN      NaN      NaN       NaN   \n",
       "600      NaN      NaN      NaN      NaN      NaN      NaN      NaN       NaN   \n",
       "601      NaN      NaN      NaN      NaN      NaN      NaN      NaN       NaN   \n",
       "602      NaN      NaN      NaN      NaN      NaN      NaN      NaN       NaN   \n",
       "603      NaN      NaN      NaN      NaN      NaN      NaN      NaN       NaN   \n",
       "\n",
       "    value_>10w  \n",
       "599        1.0  \n",
       "600    to_fill  \n",
       "601    to_fill  \n",
       "602        1.0  \n",
       "603        1.0  "
      ]
     },
     "execution_count": 23,
     "metadata": {},
     "output_type": "execute_result"
    }
   ],
   "source": [
    "df.tail()"
   ]
  },
  {
   "cell_type": "code",
   "execution_count": 24,
   "id": "ordinary-professor",
   "metadata": {},
   "outputs": [],
   "source": [
    "# we want to keep the triangle shape and avoid filling the corresponding entries\n",
    "df = df.fillna('not_observed')\n",
    "\n",
    "# we use forward filling to fill missing values in between\n",
    "df = df.replace({'to_fill' : np.nan})\n",
    "df = df.fillna(method = \"ffill\", axis = 1)\n",
    "\n",
    "df = df.replace({'not_observed' : np.nan})"
   ]
  },
  {
   "cell_type": "code",
   "execution_count": 25,
   "id": "played-dialogue",
   "metadata": {},
   "outputs": [],
   "source": [
    "# compute differences\n",
    "df.iloc[:, 6:] = df.iloc[:, 5:].diff(axis=1).iloc[:, 1:]"
   ]
  },
  {
   "cell_type": "code",
   "execution_count": 26,
   "id": "indian-walker",
   "metadata": {},
   "outputs": [],
   "source": [
    "value_cols = [c for c in df.columns if 'value' in c]\n",
    "for col in value_cols:\n",
    "    df[col] = df[col].astype('Int64')\n",
    "\n",
    "df = df[['location', 'age_group', 'year', 'week', 'date'] + value_cols]\n",
    "\n",
    "df = df.sort_values(['location', 'age_group', 'date'], ignore_index = True)"
   ]
  },
  {
   "cell_type": "code",
   "execution_count": 27,
   "id": "suspected-civilian",
   "metadata": {},
   "outputs": [],
   "source": [
    "df.to_csv(f'../data/truth/truth_{DISEASE.lower()}.csv', index = False)"
   ]
  }
 ],
 "metadata": {
  "kernelspec": {
   "display_name": "Python 3",
   "language": "python",
   "name": "python3"
  },
  "language_info": {
   "codemirror_mode": {
    "name": "ipython",
    "version": 3
   },
   "file_extension": ".py",
   "mimetype": "text/x-python",
   "name": "python",
   "nbconvert_exporter": "python",
   "pygments_lexer": "ipython3",
   "version": "3.8.8"
  }
 },
 "nbformat": 4,
 "nbformat_minor": 5
}
