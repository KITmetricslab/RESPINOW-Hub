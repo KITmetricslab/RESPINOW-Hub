{
 "cells": [
  {
   "cell_type": "code",
   "execution_count": 1,
   "id": "innocent-brazilian",
   "metadata": {},
   "outputs": [],
   "source": [
    "import pandas as pd\n",
    "import requests\n",
    "from epiweeks import Week, Year\n",
    "from tqdm.auto import tqdm\n",
    "tqdm.pandas()"
   ]
  },
  {
   "cell_type": "code",
   "execution_count": 2,
   "id": "religious-carroll",
   "metadata": {},
   "outputs": [],
   "source": [
    "location_codes = {'Deutschland': 'DE',\n",
    "                  'Schleswig-Holstein': 'DE-SH',\n",
    "                  'Hamburg': 'DE-HH',\n",
    "                  'Niedersachsen': 'DE-NI',\n",
    "                  'Bremen': 'DE-HB',\n",
    "                  'Nordrhein-Westfalen': 'DE-NW',\n",
    "                  'Hessen': 'DE-HE',\n",
    "                  'Rheinland-Pfalz': 'DE-RP',\n",
    "                  'Baden-Württemberg': 'DE-BW',\n",
    "                  'Bayern': 'DE-BY',\n",
    "                  'Saarland': 'DE-SL',\n",
    "                  'Berlin': 'DE-BE',\n",
    "                  'Brandenburg': 'DE-BB',\n",
    "                  'Mecklenburg-Vorpommern': 'DE-MV',\n",
    "                  'Sachsen': 'DE-SN',\n",
    "                  'Sachsen-Anhalt': 'DE-ST',\n",
    "                  'Thüringen': 'DE-TH'}"
   ]
  },
  {
   "cell_type": "code",
   "execution_count": 3,
   "id": "noticed-identifier",
   "metadata": {},
   "outputs": [],
   "source": [
    "PATH = 'https://raw.githubusercontent.com/KITmetricslab/nowcasting-data/main/'\n",
    "DISEASE = 'RSV_Infection' #'Pneumococcal_Disease'  'Seasonal_Influenza'\n",
    "TYPE = 'states'"
   ]
  },
  {
   "cell_type": "code",
   "execution_count": 4,
   "id": "anticipated-newspaper",
   "metadata": {},
   "outputs": [],
   "source": [
    "MAX_DELAY = 10"
   ]
  },
  {
   "cell_type": "code",
   "execution_count": 5,
   "id": "otherwise-freight",
   "metadata": {},
   "outputs": [],
   "source": [
    "url = 'https://api.github.com/repos/KITmetricslab/nowcasting-data/git/trees/main?recursive=1'\n",
    "r = requests.get(url)\n",
    "res = r.json()\n",
    "\n",
    "files = sorted([file['path'] for file in res['tree'] if (file['path'].startswith(DISEASE) and \n",
    "                                                         file['path'].endswith('.csv') and\n",
    "                                                         TYPE in file['path'])])"
   ]
  },
  {
   "cell_type": "code",
   "execution_count": 6,
   "id": "breathing-affiliation",
   "metadata": {},
   "outputs": [],
   "source": [
    "df_files = pd.DataFrame({'filename':files})\n",
    "\n",
    "# extract date from filename\n",
    "df_files['date'] = df_files.filename.str[-14:-4]\n",
    "df_files.date = pd.to_datetime(df_files.date)"
   ]
  },
  {
   "cell_type": "code",
   "execution_count": 7,
   "id": "hispanic-medium",
   "metadata": {},
   "outputs": [
    {
     "data": {
      "text/html": [
       "<div>\n",
       "<style scoped>\n",
       "    .dataframe tbody tr th:only-of-type {\n",
       "        vertical-align: middle;\n",
       "    }\n",
       "\n",
       "    .dataframe tbody tr th {\n",
       "        vertical-align: top;\n",
       "    }\n",
       "\n",
       "    .dataframe thead th {\n",
       "        text-align: right;\n",
       "    }\n",
       "</style>\n",
       "<table border=\"1\" class=\"dataframe\">\n",
       "  <thead>\n",
       "    <tr style=\"text-align: right;\">\n",
       "      <th></th>\n",
       "      <th>filename</th>\n",
       "      <th>date</th>\n",
       "    </tr>\n",
       "  </thead>\n",
       "  <tbody>\n",
       "    <tr>\n",
       "      <th>0</th>\n",
       "      <td>RSV_Infection/RSV_Infection-states-2021-10-27.csv</td>\n",
       "      <td>2021-10-27</td>\n",
       "    </tr>\n",
       "    <tr>\n",
       "      <th>1</th>\n",
       "      <td>RSV_Infection/RSV_Infection-states-2021-10-28.csv</td>\n",
       "      <td>2021-10-28</td>\n",
       "    </tr>\n",
       "    <tr>\n",
       "      <th>2</th>\n",
       "      <td>RSV_Infection/RSV_Infection-states-2021-11-01.csv</td>\n",
       "      <td>2021-11-01</td>\n",
       "    </tr>\n",
       "    <tr>\n",
       "      <th>3</th>\n",
       "      <td>RSV_Infection/RSV_Infection-states-2021-11-02.csv</td>\n",
       "      <td>2021-11-02</td>\n",
       "    </tr>\n",
       "    <tr>\n",
       "      <th>4</th>\n",
       "      <td>RSV_Infection/RSV_Infection-states-2021-11-03.csv</td>\n",
       "      <td>2021-11-03</td>\n",
       "    </tr>\n",
       "  </tbody>\n",
       "</table>\n",
       "</div>"
      ],
      "text/plain": [
       "                                            filename       date\n",
       "0  RSV_Infection/RSV_Infection-states-2021-10-27.csv 2021-10-27\n",
       "1  RSV_Infection/RSV_Infection-states-2021-10-28.csv 2021-10-28\n",
       "2  RSV_Infection/RSV_Infection-states-2021-11-01.csv 2021-11-01\n",
       "3  RSV_Infection/RSV_Infection-states-2021-11-02.csv 2021-11-02\n",
       "4  RSV_Infection/RSV_Infection-states-2021-11-03.csv 2021-11-03"
      ]
     },
     "execution_count": 7,
     "metadata": {},
     "output_type": "execute_result"
    }
   ],
   "source": [
    "df_files.head()"
   ]
  },
  {
   "cell_type": "code",
   "execution_count": 8,
   "id": "royal-knitting",
   "metadata": {},
   "outputs": [],
   "source": [
    "def add_iso_dates(df):\n",
    "    '''\n",
    "    Adds iso_week, iso_year and iso_date (end date of the week) to dataframe.\n",
    "    '''\n",
    "    df['iso_week'] = df.date.apply(lambda x: Week.fromdate(x, system = 'iso').week)\n",
    "    df['iso_year'] = df.date.apply(lambda x: Week.fromdate(x, system = 'iso').year)\n",
    "    df['iso_date'] = df_files.apply(lambda x: Week(x.iso_year, x.iso_week, system = 'iso').enddate(), axis = 1)\n",
    "    \n",
    "    return(df)"
   ]
  },
  {
   "cell_type": "code",
   "execution_count": 9,
   "id": "heard-highway",
   "metadata": {},
   "outputs": [],
   "source": [
    "df_files = add_iso_dates(df_files)"
   ]
  },
  {
   "cell_type": "code",
   "execution_count": 10,
   "id": "threaded-collector",
   "metadata": {
    "scrolled": true
   },
   "outputs": [
    {
     "data": {
      "text/html": [
       "<div>\n",
       "<style scoped>\n",
       "    .dataframe tbody tr th:only-of-type {\n",
       "        vertical-align: middle;\n",
       "    }\n",
       "\n",
       "    .dataframe tbody tr th {\n",
       "        vertical-align: top;\n",
       "    }\n",
       "\n",
       "    .dataframe thead th {\n",
       "        text-align: right;\n",
       "    }\n",
       "</style>\n",
       "<table border=\"1\" class=\"dataframe\">\n",
       "  <thead>\n",
       "    <tr style=\"text-align: right;\">\n",
       "      <th></th>\n",
       "      <th>filename</th>\n",
       "      <th>date</th>\n",
       "      <th>iso_week</th>\n",
       "      <th>iso_year</th>\n",
       "      <th>iso_date</th>\n",
       "    </tr>\n",
       "  </thead>\n",
       "  <tbody>\n",
       "    <tr>\n",
       "      <th>0</th>\n",
       "      <td>RSV_Infection/RSV_Infection-states-2021-10-27.csv</td>\n",
       "      <td>2021-10-27</td>\n",
       "      <td>43</td>\n",
       "      <td>2021</td>\n",
       "      <td>2021-10-31</td>\n",
       "    </tr>\n",
       "    <tr>\n",
       "      <th>1</th>\n",
       "      <td>RSV_Infection/RSV_Infection-states-2021-10-28.csv</td>\n",
       "      <td>2021-10-28</td>\n",
       "      <td>43</td>\n",
       "      <td>2021</td>\n",
       "      <td>2021-10-31</td>\n",
       "    </tr>\n",
       "    <tr>\n",
       "      <th>2</th>\n",
       "      <td>RSV_Infection/RSV_Infection-states-2021-11-01.csv</td>\n",
       "      <td>2021-11-01</td>\n",
       "      <td>44</td>\n",
       "      <td>2021</td>\n",
       "      <td>2021-11-07</td>\n",
       "    </tr>\n",
       "    <tr>\n",
       "      <th>3</th>\n",
       "      <td>RSV_Infection/RSV_Infection-states-2021-11-02.csv</td>\n",
       "      <td>2021-11-02</td>\n",
       "      <td>44</td>\n",
       "      <td>2021</td>\n",
       "      <td>2021-11-07</td>\n",
       "    </tr>\n",
       "    <tr>\n",
       "      <th>4</th>\n",
       "      <td>RSV_Infection/RSV_Infection-states-2021-11-03.csv</td>\n",
       "      <td>2021-11-03</td>\n",
       "      <td>44</td>\n",
       "      <td>2021</td>\n",
       "      <td>2021-11-07</td>\n",
       "    </tr>\n",
       "  </tbody>\n",
       "</table>\n",
       "</div>"
      ],
      "text/plain": [
       "                                            filename       date  iso_week  \\\n",
       "0  RSV_Infection/RSV_Infection-states-2021-10-27.csv 2021-10-27        43   \n",
       "1  RSV_Infection/RSV_Infection-states-2021-10-28.csv 2021-10-28        43   \n",
       "2  RSV_Infection/RSV_Infection-states-2021-11-01.csv 2021-11-01        44   \n",
       "3  RSV_Infection/RSV_Infection-states-2021-11-02.csv 2021-11-02        44   \n",
       "4  RSV_Infection/RSV_Infection-states-2021-11-03.csv 2021-11-03        44   \n",
       "\n",
       "   iso_year    iso_date  \n",
       "0      2021  2021-10-31  \n",
       "1      2021  2021-10-31  \n",
       "2      2021  2021-11-07  \n",
       "3      2021  2021-11-07  \n",
       "4      2021  2021-11-07  "
      ]
     },
     "execution_count": 10,
     "metadata": {},
     "output_type": "execute_result"
    }
   ],
   "source": [
    "df_files.head()"
   ]
  },
  {
   "cell_type": "code",
   "execution_count": 11,
   "id": "mature-matthew",
   "metadata": {},
   "outputs": [],
   "source": [
    "# only keep latest file per week\n",
    "df_files = df_files.sort_values('date').groupby(['iso_year', 'iso_week']).tail(1).reset_index(drop = True)"
   ]
  },
  {
   "cell_type": "code",
   "execution_count": 12,
   "id": "convertible-malpractice",
   "metadata": {
    "scrolled": true
   },
   "outputs": [
    {
     "data": {
      "text/html": [
       "<div>\n",
       "<style scoped>\n",
       "    .dataframe tbody tr th:only-of-type {\n",
       "        vertical-align: middle;\n",
       "    }\n",
       "\n",
       "    .dataframe tbody tr th {\n",
       "        vertical-align: top;\n",
       "    }\n",
       "\n",
       "    .dataframe thead th {\n",
       "        text-align: right;\n",
       "    }\n",
       "</style>\n",
       "<table border=\"1\" class=\"dataframe\">\n",
       "  <thead>\n",
       "    <tr style=\"text-align: right;\">\n",
       "      <th></th>\n",
       "      <th>filename</th>\n",
       "      <th>date</th>\n",
       "      <th>iso_week</th>\n",
       "      <th>iso_year</th>\n",
       "      <th>iso_date</th>\n",
       "    </tr>\n",
       "  </thead>\n",
       "  <tbody>\n",
       "    <tr>\n",
       "      <th>0</th>\n",
       "      <td>RSV_Infection/RSV_Infection-states-2021-10-28.csv</td>\n",
       "      <td>2021-10-28</td>\n",
       "      <td>43</td>\n",
       "      <td>2021</td>\n",
       "      <td>2021-10-31</td>\n",
       "    </tr>\n",
       "    <tr>\n",
       "      <th>1</th>\n",
       "      <td>RSV_Infection/RSV_Infection-states-2021-11-07.csv</td>\n",
       "      <td>2021-11-07</td>\n",
       "      <td>44</td>\n",
       "      <td>2021</td>\n",
       "      <td>2021-11-07</td>\n",
       "    </tr>\n",
       "    <tr>\n",
       "      <th>2</th>\n",
       "      <td>RSV_Infection/RSV_Infection-states-2021-11-14.csv</td>\n",
       "      <td>2021-11-14</td>\n",
       "      <td>45</td>\n",
       "      <td>2021</td>\n",
       "      <td>2021-11-14</td>\n",
       "    </tr>\n",
       "    <tr>\n",
       "      <th>3</th>\n",
       "      <td>RSV_Infection/RSV_Infection-states-2021-11-21.csv</td>\n",
       "      <td>2021-11-21</td>\n",
       "      <td>46</td>\n",
       "      <td>2021</td>\n",
       "      <td>2021-11-21</td>\n",
       "    </tr>\n",
       "    <tr>\n",
       "      <th>4</th>\n",
       "      <td>RSV_Infection/RSV_Infection-states-2021-11-28.csv</td>\n",
       "      <td>2021-11-28</td>\n",
       "      <td>47</td>\n",
       "      <td>2021</td>\n",
       "      <td>2021-11-28</td>\n",
       "    </tr>\n",
       "  </tbody>\n",
       "</table>\n",
       "</div>"
      ],
      "text/plain": [
       "                                            filename       date  iso_week  \\\n",
       "0  RSV_Infection/RSV_Infection-states-2021-10-28.csv 2021-10-28        43   \n",
       "1  RSV_Infection/RSV_Infection-states-2021-11-07.csv 2021-11-07        44   \n",
       "2  RSV_Infection/RSV_Infection-states-2021-11-14.csv 2021-11-14        45   \n",
       "3  RSV_Infection/RSV_Infection-states-2021-11-21.csv 2021-11-21        46   \n",
       "4  RSV_Infection/RSV_Infection-states-2021-11-28.csv 2021-11-28        47   \n",
       "\n",
       "   iso_year    iso_date  \n",
       "0      2021  2021-10-31  \n",
       "1      2021  2021-11-07  \n",
       "2      2021  2021-11-14  \n",
       "3      2021  2021-11-21  \n",
       "4      2021  2021-11-28  "
      ]
     },
     "execution_count": 12,
     "metadata": {},
     "output_type": "execute_result"
    }
   ],
   "source": [
    "df_files.head()"
   ]
  },
  {
   "cell_type": "code",
   "execution_count": 13,
   "id": "informative-navigation",
   "metadata": {},
   "outputs": [
    {
     "name": "stdout",
     "output_type": "stream",
     "text": [
      "Warning: RSV_Infection/RSV_Infection-states-2021-10-28.csv could not be loaded and was skipped.\n"
     ]
    }
   ],
   "source": [
    "dfs = []\n",
    "for i, row in df_files.iterrows():\n",
    "    try:\n",
    "        df_temp = pd.read_csv(PATH + row['filename'])\n",
    "        df_temp = df_temp[(df_temp.week == row['iso_week']) & (df_temp.year == row['iso_year'])]\n",
    "        dfs.append(df_temp)\n",
    "    except:\n",
    "        print(f\"Warning: {row['filename']} could not be loaded and was skipped.\")\n",
    "\n",
    "df = pd.concat(dfs)\n",
    "\n",
    "# df.stratum.replace({'Ã.': 'ü', '\\.': '-'}, regex = True, inplace = True)\n",
    "\n",
    "df['date'] = df.apply(lambda x: Week(x.year, x.week, system = 'iso').enddate(), axis = 1)\n",
    "\n",
    "df = df[['stratum', 'year', 'week', 'date', 'value']]\n",
    "\n",
    "df.rename(columns = {'value': 'value_0w'}, inplace = True)"
   ]
  },
  {
   "cell_type": "code",
   "execution_count": 14,
   "id": "curious-perth",
   "metadata": {},
   "outputs": [
    {
     "data": {
      "image/png": "[encoded data removed]",
      "text/plain": [
       "<Figure size 432x288 with 1 Axes>"
      ]
     },
     "metadata": {
      "needs_background": "light"
     },
     "output_type": "display_data"
    }
   ],
   "source": [
    "df.set_index('date').groupby('stratum')['value_0w'].plot();"
   ]
  },
  {
   "cell_type": "code",
   "execution_count": 15,
   "id": "nearby-complex",
   "metadata": {},
   "outputs": [],
   "source": [
    "dates = pd.Series(df.date.unique())"
   ]
  },
  {
   "cell_type": "code",
   "execution_count": 16,
   "id": "complicated-joshua",
   "metadata": {},
   "outputs": [
    {
     "data": {
      "application/vnd.jupyter.widget-view+json": {
       "model_id": "1990b3ac07e64dd39ab1c110d8d9de21",
       "version_major": 2,
       "version_minor": 0
      },
      "text/plain": [
       "  0%|          | 0/10 [00:00<?, ?it/s]"
      ]
     },
     "metadata": {},
     "output_type": "display_data"
    }
   ],
   "source": [
    "for delay in tqdm(range(1, MAX_DELAY + 1), total = MAX_DELAY):\n",
    "    dfs_delayed = []\n",
    "    for date in dates:\n",
    "        date_delayed = date + pd.Timedelta(weeks = delay)\n",
    "        if date_delayed <= max(dates):\n",
    "            filename = df_files.loc[df_files.iso_date == date_delayed, 'filename'].values[0]\n",
    "            df_temp = pd.read_csv(PATH + filename)\n",
    "            # df_temp.stratum.replace({'Ã.': 'ü', '\\.': '-'}, regex = True, inplace = True)\n",
    "            df_temp['date'] = df_temp.apply(lambda x: Week(x.year, x.week, system = 'iso').enddate(), axis = 1)\n",
    "            df_temp = df_temp[df_temp.date == date]\n",
    "            dfs_delayed.append(df_temp)\n",
    "    df_delayed = pd.concat(dfs_delayed)\n",
    "    df_delayed.rename(columns = {'value': f'value_{delay}w'}, inplace = True)\n",
    "    df = df.merge(df_delayed, how = 'left')"
   ]
  },
  {
   "cell_type": "code",
   "execution_count": 17,
   "id": "growing-people",
   "metadata": {},
   "outputs": [],
   "source": [
    "# use latest file to compute column for remaining correction beyond the specified largest delay\n",
    "df_latest = pd.read_csv(PATH + files[-1])\n",
    "\n",
    "# df_latest.stratum.replace({'Ã.': 'ü', '\\.': '-'}, regex = True, inplace = True)\n",
    "df_latest['date'] = df_latest.apply(lambda x: Week(x.year, x.week, system = 'iso').enddate(), axis = 1)\n",
    "\n",
    "df_latest.rename(columns = {'value': f'value_>{MAX_DELAY}w'}, inplace = True)\n",
    "df = df.merge(df_latest, how = 'left')"
   ]
  },
  {
   "cell_type": "code",
   "execution_count": 18,
   "id": "brutal-transcription",
   "metadata": {},
   "outputs": [
    {
     "data": {
      "text/html": [
       "<div>\n",
       "<style scoped>\n",
       "    .dataframe tbody tr th:only-of-type {\n",
       "        vertical-align: middle;\n",
       "    }\n",
       "\n",
       "    .dataframe tbody tr th {\n",
       "        vertical-align: top;\n",
       "    }\n",
       "\n",
       "    .dataframe thead th {\n",
       "        text-align: right;\n",
       "    }\n",
       "</style>\n",
       "<table border=\"1\" class=\"dataframe\">\n",
       "  <thead>\n",
       "    <tr style=\"text-align: right;\">\n",
       "      <th></th>\n",
       "      <th>stratum</th>\n",
       "      <th>year</th>\n",
       "      <th>week</th>\n",
       "      <th>date</th>\n",
       "      <th>value_0w</th>\n",
       "      <th>value_1w</th>\n",
       "      <th>value_2w</th>\n",
       "      <th>value_3w</th>\n",
       "      <th>value_4w</th>\n",
       "      <th>value_5w</th>\n",
       "      <th>value_6w</th>\n",
       "      <th>value_7w</th>\n",
       "      <th>value_8w</th>\n",
       "      <th>value_9w</th>\n",
       "      <th>value_10w</th>\n",
       "      <th>value_&gt;10w</th>\n",
       "    </tr>\n",
       "  </thead>\n",
       "  <tbody>\n",
       "    <tr>\n",
       "      <th>0</th>\n",
       "      <td>Sachsen</td>\n",
       "      <td>2021</td>\n",
       "      <td>44</td>\n",
       "      <td>2021-11-07</td>\n",
       "      <td>417</td>\n",
       "      <td>454.0</td>\n",
       "      <td>454.0</td>\n",
       "      <td>457.0</td>\n",
       "      <td>459.0</td>\n",
       "      <td>459.0</td>\n",
       "      <td>459.0</td>\n",
       "      <td>459.0</td>\n",
       "      <td>459.0</td>\n",
       "      <td>460.0</td>\n",
       "      <td>460.0</td>\n",
       "      <td>483</td>\n",
       "    </tr>\n",
       "    <tr>\n",
       "      <th>1</th>\n",
       "      <td>Sachsen</td>\n",
       "      <td>2021</td>\n",
       "      <td>45</td>\n",
       "      <td>2021-11-14</td>\n",
       "      <td>204</td>\n",
       "      <td>226.0</td>\n",
       "      <td>243.0</td>\n",
       "      <td>247.0</td>\n",
       "      <td>247.0</td>\n",
       "      <td>250.0</td>\n",
       "      <td>253.0</td>\n",
       "      <td>253.0</td>\n",
       "      <td>253.0</td>\n",
       "      <td>253.0</td>\n",
       "      <td>267.0</td>\n",
       "      <td>271</td>\n",
       "    </tr>\n",
       "    <tr>\n",
       "      <th>2</th>\n",
       "      <td>Sachsen</td>\n",
       "      <td>2021</td>\n",
       "      <td>46</td>\n",
       "      <td>2021-11-21</td>\n",
       "      <td>104</td>\n",
       "      <td>141.0</td>\n",
       "      <td>145.0</td>\n",
       "      <td>145.0</td>\n",
       "      <td>148.0</td>\n",
       "      <td>147.0</td>\n",
       "      <td>147.0</td>\n",
       "      <td>147.0</td>\n",
       "      <td>147.0</td>\n",
       "      <td>146.0</td>\n",
       "      <td>146.0</td>\n",
       "      <td>146</td>\n",
       "    </tr>\n",
       "    <tr>\n",
       "      <th>3</th>\n",
       "      <td>Sachsen</td>\n",
       "      <td>2021</td>\n",
       "      <td>47</td>\n",
       "      <td>2021-11-28</td>\n",
       "      <td>110</td>\n",
       "      <td>121.0</td>\n",
       "      <td>122.0</td>\n",
       "      <td>122.0</td>\n",
       "      <td>122.0</td>\n",
       "      <td>123.0</td>\n",
       "      <td>123.0</td>\n",
       "      <td>123.0</td>\n",
       "      <td>124.0</td>\n",
       "      <td>124.0</td>\n",
       "      <td>124.0</td>\n",
       "      <td>124</td>\n",
       "    </tr>\n",
       "    <tr>\n",
       "      <th>4</th>\n",
       "      <td>Sachsen</td>\n",
       "      <td>2021</td>\n",
       "      <td>48</td>\n",
       "      <td>2021-12-05</td>\n",
       "      <td>61</td>\n",
       "      <td>78.0</td>\n",
       "      <td>78.0</td>\n",
       "      <td>78.0</td>\n",
       "      <td>79.0</td>\n",
       "      <td>80.0</td>\n",
       "      <td>80.0</td>\n",
       "      <td>80.0</td>\n",
       "      <td>80.0</td>\n",
       "      <td>81.0</td>\n",
       "      <td>81.0</td>\n",
       "      <td>81</td>\n",
       "    </tr>\n",
       "  </tbody>\n",
       "</table>\n",
       "</div>"
      ],
      "text/plain": [
       "   stratum  year  week        date  value_0w  value_1w  value_2w  value_3w  \\\n",
       "0  Sachsen  2021    44  2021-11-07       417     454.0     454.0     457.0   \n",
       "1  Sachsen  2021    45  2021-11-14       204     226.0     243.0     247.0   \n",
       "2  Sachsen  2021    46  2021-11-21       104     141.0     145.0     145.0   \n",
       "3  Sachsen  2021    47  2021-11-28       110     121.0     122.0     122.0   \n",
       "4  Sachsen  2021    48  2021-12-05        61      78.0      78.0      78.0   \n",
       "\n",
       "   value_4w  value_5w  value_6w  value_7w  value_8w  value_9w  value_10w  \\\n",
       "0     459.0     459.0     459.0     459.0     459.0     460.0      460.0   \n",
       "1     247.0     250.0     253.0     253.0     253.0     253.0      267.0   \n",
       "2     148.0     147.0     147.0     147.0     147.0     146.0      146.0   \n",
       "3     122.0     123.0     123.0     123.0     124.0     124.0      124.0   \n",
       "4      79.0      80.0      80.0      80.0      80.0      81.0       81.0   \n",
       "\n",
       "   value_>10w  \n",
       "0         483  \n",
       "1         271  \n",
       "2         146  \n",
       "3         124  \n",
       "4          81  "
      ]
     },
     "execution_count": 18,
     "metadata": {},
     "output_type": "execute_result"
    }
   ],
   "source": [
    "df.head()"
   ]
  },
  {
   "cell_type": "code",
   "execution_count": 19,
   "id": "played-dialogue",
   "metadata": {},
   "outputs": [],
   "source": [
    "# compute differences\n",
    "df.iloc[:, 5:] = df.iloc[:, 4:].diff(axis=1).iloc[:, 1:]"
   ]
  },
  {
   "cell_type": "code",
   "execution_count": 20,
   "id": "unusual-radio",
   "metadata": {},
   "outputs": [],
   "source": [
    "value_cols = [c for c in df.columns if 'value' in c]\n",
    "for col in value_cols:\n",
    "    df[col] = df[col].astype('Int64')\n",
    "\n",
    "df.stratum.replace({'Ã.': 'ü', '\\.': '-'}, regex = True, inplace = True)\n",
    "df['location'] = df.stratum.replace(location_codes)\n",
    "df['age_group'] = '00+'\n",
    "\n",
    "df = df[['location', 'age_group', 'year', 'week', 'date'] + value_cols]\n",
    "\n",
    "df.sort_values(['location', 'age_group', 'date'], inplace = True)"
   ]
  },
  {
   "cell_type": "code",
   "execution_count": 21,
   "id": "suspected-civilian",
   "metadata": {},
   "outputs": [],
   "source": [
    "df.to_csv(f'../data/truth/truth_{DISEASE.lower()}.csv', index = False)"
   ]
  },
  {
   "cell_type": "code",
   "execution_count": null,
   "id": "commercial-bouquet",
   "metadata": {},
   "outputs": [],
   "source": []
  }
 ],
 "metadata": {
  "kernelspec": {
   "display_name": "Python 3",
   "language": "python",
   "name": "python3"
  },
  "language_info": {
   "codemirror_mode": {
    "name": "ipython",
    "version": 3
   },
   "file_extension": ".py",
   "mimetype": "text/x-python",
   "name": "python",
   "nbconvert_exporter": "python",
   "pygments_lexer": "ipython3",
   "version": "3.8.8"
  }
 },
 "nbformat": 4,
 "nbformat_minor": 5
}
