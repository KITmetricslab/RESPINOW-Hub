{
 "cells": [
  {
   "cell_type": "code",
   "execution_count": 1,
   "id": "283b11ef",
   "metadata": {},
   "outputs": [],
   "source": [
    "import git\n",
    "import pandas as pd"
   ]
  },
  {
   "cell_type": "code",
   "execution_count": 2,
   "id": "ef2c8a63",
   "metadata": {},
   "outputs": [],
   "source": [
    "repo = git.Repo(\"../\")\n",
    "tree = repo.tree()\n",
    "\n",
    "commit_dates = pd.DataFrame(columns=['filename', 'first_commit', 'latest_commit'])\n",
    "\n",
    "for blob in tree.traverse():\n",
    "    if (blob.path.startswith('submissions') & blob.path.endswith('.csv')):\n",
    "        commits = list(repo.iter_commits(paths=blob.path))\n",
    "        commit_dates.loc[len(commit_dates)] = [blob.path.split(\"/\")[-1], # filename\n",
    "                                               str(pd.to_datetime(commits[-1].committed_date, unit='s').date()), # first commit\n",
    "                                               str(pd.to_datetime(commits[0].committed_date, unit='s').date())] # latest commit"
   ]
  },
  {
   "cell_type": "code",
   "execution_count": 3,
   "id": "b13269f0",
   "metadata": {},
   "outputs": [],
   "source": [
    "commit_dates[[\"forecast_date\", \"source\", \"indicator\", \"model\"]] = commit_dates[\"filename\"].str.extract(\n",
    "    r\"^(\\d{4}-\\d{2}-\\d{2})-([^-]+)-([^-]+)-([^.]+)\"\n",
    ")"
   ]
  },
  {
   "cell_type": "code",
   "execution_count": 4,
   "id": "f10ea2bb",
   "metadata": {},
   "outputs": [],
   "source": [
    "commit_dates['forecast_date'] = pd.to_datetime(commit_dates.forecast_date)\n",
    "\n",
    "commit_dates['latest_commit'] = pd.to_datetime(commit_dates.latest_commit)\n",
    "\n",
    "commit_dates['diff'] = commit_dates.latest_commit - commit_dates.forecast_date\n",
    "\n",
    "commit_dates['retrospective'] = commit_dates['diff'] > pd.Timedelta(days=3)"
   ]
  },
  {
   "cell_type": "code",
   "execution_count": 5,
   "id": "ceec810c",
   "metadata": {
    "scrolled": true
   },
   "outputs": [
    {
     "data": {
      "text/html": [
       "<div>\n",
       "<style scoped>\n",
       "    .dataframe tbody tr th:only-of-type {\n",
       "        vertical-align: middle;\n",
       "    }\n",
       "\n",
       "    .dataframe tbody tr th {\n",
       "        vertical-align: top;\n",
       "    }\n",
       "\n",
       "    .dataframe thead th {\n",
       "        text-align: right;\n",
       "    }\n",
       "</style>\n",
       "<table border=\"1\" class=\"dataframe\">\n",
       "  <thead>\n",
       "    <tr style=\"text-align: right;\">\n",
       "      <th></th>\n",
       "      <th>filename</th>\n",
       "      <th>first_commit</th>\n",
       "      <th>latest_commit</th>\n",
       "      <th>forecast_date</th>\n",
       "      <th>source</th>\n",
       "      <th>indicator</th>\n",
       "      <th>model</th>\n",
       "      <th>diff</th>\n",
       "      <th>retrospective</th>\n",
       "    </tr>\n",
       "  </thead>\n",
       "  <tbody>\n",
       "    <tr>\n",
       "      <th>0</th>\n",
       "      <td>2024-10-17-agi-are-KIT-LightGBM.csv</td>\n",
       "      <td>2024-11-07</td>\n",
       "      <td>2025-04-24</td>\n",
       "      <td>2024-10-17</td>\n",
       "      <td>agi</td>\n",
       "      <td>are</td>\n",
       "      <td>KIT-LightGBM</td>\n",
       "      <td>189 days</td>\n",
       "      <td>True</td>\n",
       "    </tr>\n",
       "    <tr>\n",
       "      <th>1</th>\n",
       "      <td>2024-10-24-agi-are-KIT-LightGBM.csv</td>\n",
       "      <td>2024-11-06</td>\n",
       "      <td>2025-04-24</td>\n",
       "      <td>2024-10-24</td>\n",
       "      <td>agi</td>\n",
       "      <td>are</td>\n",
       "      <td>KIT-LightGBM</td>\n",
       "      <td>182 days</td>\n",
       "      <td>True</td>\n",
       "    </tr>\n",
       "    <tr>\n",
       "      <th>2</th>\n",
       "      <td>2024-10-31-agi-are-KIT-LightGBM.csv</td>\n",
       "      <td>2024-11-06</td>\n",
       "      <td>2025-04-24</td>\n",
       "      <td>2024-10-31</td>\n",
       "      <td>agi</td>\n",
       "      <td>are</td>\n",
       "      <td>KIT-LightGBM</td>\n",
       "      <td>175 days</td>\n",
       "      <td>True</td>\n",
       "    </tr>\n",
       "    <tr>\n",
       "      <th>3</th>\n",
       "      <td>2024-11-07-agi-are-KIT-LightGBM.csv</td>\n",
       "      <td>2024-11-08</td>\n",
       "      <td>2025-04-24</td>\n",
       "      <td>2024-11-07</td>\n",
       "      <td>agi</td>\n",
       "      <td>are</td>\n",
       "      <td>KIT-LightGBM</td>\n",
       "      <td>168 days</td>\n",
       "      <td>True</td>\n",
       "    </tr>\n",
       "    <tr>\n",
       "      <th>4</th>\n",
       "      <td>2024-11-14-agi-are-KIT-LightGBM.csv</td>\n",
       "      <td>2024-11-22</td>\n",
       "      <td>2025-04-24</td>\n",
       "      <td>2024-11-14</td>\n",
       "      <td>agi</td>\n",
       "      <td>are</td>\n",
       "      <td>KIT-LightGBM</td>\n",
       "      <td>161 days</td>\n",
       "      <td>True</td>\n",
       "    </tr>\n",
       "  </tbody>\n",
       "</table>\n",
       "</div>"
      ],
      "text/plain": [
       "                              filename first_commit latest_commit  \\\n",
       "0  2024-10-17-agi-are-KIT-LightGBM.csv   2024-11-07    2025-04-24   \n",
       "1  2024-10-24-agi-are-KIT-LightGBM.csv   2024-11-06    2025-04-24   \n",
       "2  2024-10-31-agi-are-KIT-LightGBM.csv   2024-11-06    2025-04-24   \n",
       "3  2024-11-07-agi-are-KIT-LightGBM.csv   2024-11-08    2025-04-24   \n",
       "4  2024-11-14-agi-are-KIT-LightGBM.csv   2024-11-22    2025-04-24   \n",
       "\n",
       "  forecast_date source indicator         model     diff  retrospective  \n",
       "0    2024-10-17    agi       are  KIT-LightGBM 189 days           True  \n",
       "1    2024-10-24    agi       are  KIT-LightGBM 182 days           True  \n",
       "2    2024-10-31    agi       are  KIT-LightGBM 175 days           True  \n",
       "3    2024-11-07    agi       are  KIT-LightGBM 168 days           True  \n",
       "4    2024-11-14    agi       are  KIT-LightGBM 161 days           True  "
      ]
     },
     "execution_count": 5,
     "metadata": {},
     "output_type": "execute_result"
    }
   ],
   "source": [
    "commit_dates.head()"
   ]
  },
  {
   "cell_type": "code",
   "execution_count": 7,
   "id": "01dcf72f",
   "metadata": {},
   "outputs": [],
   "source": [
    "commit_dates.to_csv('../respinow_viz/plot_data/other/list_commit_dates.csv', index=False)"
   ]
  }
 ],
 "metadata": {
  "kernelspec": {
   "display_name": "Python 3 (ipykernel)",
   "language": "python",
   "name": "python3"
  },
  "language_info": {
   "codemirror_mode": {
    "name": "ipython",
    "version": 3
   },
   "file_extension": ".py",
   "mimetype": "text/x-python",
   "name": "python",
   "nbconvert_exporter": "python",
   "pygments_lexer": "ipython3",
   "version": "3.8.18"
  }
 },
 "nbformat": 4,
 "nbformat_minor": 5
}
